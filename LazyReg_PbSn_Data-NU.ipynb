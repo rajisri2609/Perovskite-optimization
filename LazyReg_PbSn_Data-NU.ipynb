{
 "cells": [
  {
   "cell_type": "code",
   "execution_count": 8,
   "id": "56299f29-1dcb-43b8-b0c7-e519b80becbc",
   "metadata": {},
   "outputs": [
    {
     "name": "stderr",
     "output_type": "stream",
     "text": [
      "  5%|███▉                                                                               | 2/42 [00:00<00:02, 14.15it/s]"
     ]
    },
    {
     "name": "stdout",
     "output_type": "stream",
     "text": [
      "{'Model': 'AdaBoostRegressor', 'R-Squared': -0.024176685192663916, 'Adjusted R-Squared': -0.6094205053027575, 'RMSE': 0.04919428049521636, 'Time taken': 0.08362841606140137, 'mean_squared_error': 0.002420077233442025}\n",
      "{'Model': 'BaggingRegressor', 'R-Squared': -0.10814698523733934, 'Adjusted R-Squared': -0.7413738339443903, 'RMSE': 0.05117122987215449, 'Time taken': 0.05769038200378418, 'mean_squared_error': 0.002618494766628876}\n",
      "{'Model': 'BayesianRidge', 'R-Squared': 0.23263841858245005, 'Adjusted R-Squared': -0.2058539136561499, 'RMSE': 0.042582111866212684, 'Time taken': 0.025936365127563477, 'mean_squared_error': 0.001813236250986651}\n",
      "{'Model': 'DecisionTreeRegressor', 'R-Squared': -0.5105709999999999, 'Adjusted R-Squared': -1.3737544285714285, 'RMSE': 0.05974447400314983, 'Time taken': 0.019591569900512695, 'mean_squared_error': 0.0035694021739130465}\n",
      "{'Model': 'DummyRegressor', 'R-Squared': -0.015025165289255904, 'Adjusted R-Squared': -0.595039545454545, 'RMSE': 0.04897399982644954, 'Time taken': 0.016033172607421875, 'mean_squared_error': 0.0023984526590010795}\n",
      "{'Model': 'ElasticNet', 'R-Squared': -0.015025165289255904, 'Adjusted R-Squared': -0.595039545454545, 'RMSE': 0.04897399982644954, 'Time taken': 0.018573999404907227, 'mean_squared_error': 0.0023984526590010795}\n"
     ]
    },
    {
     "name": "stderr",
     "output_type": "stream",
     "text": [
      " 24%|███████████████████▌                                                              | 10/42 [00:00<00:01, 18.84it/s]"
     ]
    },
    {
     "name": "stdout",
     "output_type": "stream",
     "text": [
      "{'Model': 'ElasticNetCV', 'R-Squared': 0.21828170249616974, 'Adjusted R-Squared': -0.2284144675060189, 'RMSE': 0.0429786044251798, 'Time taken': 0.11165976524353027, 'mean_squared_error': 0.0018471604383360845}\n",
      "{'Model': 'ExtraTreeRegressor', 'R-Squared': -0.6072860000000007, 'Adjusted R-Squared': -1.525735142857144, 'RMSE': 0.061627386628094985, 'Time taken': 0.020318984985351562, 'mean_squared_error': 0.0037979347826087003}\n",
      "{'Model': 'ExtraTreesRegressor', 'R-Squared': -0.4195835371579473, 'Adjusted R-Squared': -1.2307741298196313, 'RMSE': 0.05791721197700956, 'Time taken': 0.15502166748046875, 'mean_squared_error': 0.0033544034431898595}\n",
      "{'Model': 'GammaRegressor', 'R-Squared': 0.23924070898781902, 'Adjusted R-Squared': -0.19547888587628437, 'RMSE': 0.04239853034879475, 'Time taken': 0.016148090362548828, 'mean_squared_error': 0.0017976353757376692}\n"
     ]
    },
    {
     "name": "stderr",
     "output_type": "stream",
     "text": [
      " 29%|███████████████████████▍                                                          | 12/42 [00:00<00:01, 16.42it/s]"
     ]
    },
    {
     "name": "stdout",
     "output_type": "stream",
     "text": [
      "{'Model': 'GaussianProcessRegressor', 'R-Squared': -1.9573010103577784, 'Adjusted R-Squared': -3.6471873019907948, 'RMSE': 0.08359396717303423, 'Time taken': 0.05602002143859863, 'mean_squared_error': 0.006987951347726325}\n",
      "{'Model': 'GradientBoostingRegressor', 'R-Squared': 0.00010249782661841955, 'Adjusted R-Squared': -0.5712675034153138, 'RMSE': 0.04860768214150535, 'Time taken': 0.10667061805725098, 'mean_squared_error': 0.0023627067631696182}\n"
     ]
    },
    {
     "name": "stderr",
     "output_type": "stream",
     "text": [
      " 33%|███████████████████████████▎                                                      | 14/42 [00:00<00:01, 14.17it/s]"
     ]
    },
    {
     "name": "stdout",
     "output_type": "stream",
     "text": [
      "{'Model': 'HistGradientBoostingRegressor', 'R-Squared': -0.009238994893267849, 'Adjusted R-Squared': -0.5859469919751352, 'RMSE': 0.048834211713508255, 'Time taken': 0.1623985767364502, 'mean_squared_error': 0.0023847802336797465}\n",
      "{'Model': 'HuberRegressor', 'R-Squared': 0.18099607582263855, 'Adjusted R-Squared': -0.287006166564425, 'RMSE': 0.043991640923231434, 'Time taken': 0.027761459350585938, 'mean_squared_error': 0.0019352644711185306}\n",
      "{'Model': 'KNeighborsRegressor', 'R-Squared': -0.2775487999999997, 'Adjusted R-Squared': -1.0075766857142852, 'RMSE': 0.05494344918819399, 'Time taken': 0.013086795806884766, 'mean_squared_error': 0.0030187826086956544}\n",
      "{'Model': 'KernelRidge', 'R-Squared': -698.4289345446551, 'Adjusted R-Squared': -1098.1026114273152, 'RMSE': 1.2855795866797783, 'Time taken': 0.021152496337890625, 'mean_squared_error': 1.65271487368775}\n",
      "{'Model': 'Lars', 'R-Squared': 0.20650168806384772, 'Adjusted R-Squared': -0.2469259187568107, 'RMSE': 0.04330122413040176, 'Time taken': 0.01590585708618164, 'mean_squared_error': 0.0018749960111912878}\n",
      "{'Model': 'LarsCV', 'R-Squared': 0.2168693751092119, 'Adjusted R-Squared': -0.23063383911409563, 'RMSE': 0.04301741154307989, 'Time taken': 0.023745059967041016, 'mean_squared_error': 0.0018504976958667032}\n",
      "{'Model': 'Lasso', 'R-Squared': -0.015025165289255904, 'Adjusted R-Squared': -0.595039545454545, 'RMSE': 0.04897399982644954, 'Time taken': 0.016463756561279297, 'mean_squared_error': 0.0023984526590010795}\n"
     ]
    },
    {
     "name": "stderr",
     "output_type": "stream",
     "text": [
      " 60%|████████████████████████████████████████████████▊                                 | 25/42 [00:01<00:00, 25.66it/s]"
     ]
    },
    {
     "name": "stdout",
     "output_type": "stream",
     "text": [
      "{'Model': 'LassoCV', 'R-Squared': 0.21809389547361413, 'Adjusted R-Squared': -0.22870959282717784, 'RMSE': 0.04298376689803687, 'Time taken': 0.1070396900177002, 'mean_squared_error': 0.0018476042167447698}\n",
      "{'Model': 'LassoLars', 'R-Squared': -0.015025165289255904, 'Adjusted R-Squared': -0.595039545454545, 'RMSE': 0.04897399982644954, 'Time taken': 0.017701387405395508, 'mean_squared_error': 0.0023984526590010795}\n",
      "{'Model': 'LassoLarsCV', 'R-Squared': 0.2168693751092119, 'Adjusted R-Squared': -0.23063383911409563, 'RMSE': 0.04301741154307989, 'Time taken': 0.03169059753417969, 'mean_squared_error': 0.0018504976958667032}\n",
      "{'Model': 'LassoLarsIC', 'R-Squared': 0.20678406942402938, 'Adjusted R-Squared': -0.24648217661938232, 'RMSE': 0.04329351866561365, 'Time taken': 0.023763656616210938, 'mean_squared_error': 0.0018743287584498376}\n",
      "{'Model': 'LinearRegression', 'R-Squared': 0.2411536067718928, 'Adjusted R-Squared': -0.19247290364416836, 'RMSE': 0.04234519212269118, 'Time taken': 0.016583681106567383, 'mean_squared_error': 0.0017931152959076273}\n",
      "{'Model': 'LinearSVR', 'R-Squared': 0.09644910402863327, 'Adjusted R-Squared': -0.4198656936692906, 'RMSE': 0.04620654337013208, 'Time taken': 0.016674041748046875, 'mean_squared_error': 0.0021350446502158968}\n"
     ]
    },
    {
     "name": "stderr",
     "output_type": "stream",
     "text": [
      " 67%|██████████████████████████████████████████████████████▋                           | 28/42 [00:01<00:00, 21.67it/s]"
     ]
    },
    {
     "name": "stdout",
     "output_type": "stream",
     "text": [
      "{'Model': 'MLPRegressor', 'R-Squared': -14.345682762004433, 'Adjusted R-Squared': -23.11464434029268, 'RMSE': 0.19042338387816174, 'Time taken': 0.16700243949890137, 'mean_squared_error': 0.03626106512760975}\n",
      "{'Model': 'NuSVR', 'R-Squared': 0.09192523826753174, 'Adjusted R-Squared': -0.426974625579593, 'RMSE': 0.046322071565428065, 'Time taken': 0.018253326416015625, 'mean_squared_error': 0.0021457343141126394}\n",
      "{'Model': 'OrthogonalMatchingPursuit', 'R-Squared': 0.17243915524021658, 'Adjusted R-Squared': -0.3004527560510881, 'RMSE': 0.0442208552349698, 'Time taken': 0.016682863235473633, 'mean_squared_error': 0.0019554840377121554}\n",
      "{'Model': 'OrthogonalMatchingPursuitCV', 'R-Squared': 0.20648660161930732, 'Adjusted R-Squared': -0.2469496260268027, 'RMSE': 0.043301635762286496, 'Time taken': 0.02460932731628418, 'mean_squared_error': 0.001875031659689729}\n",
      "{'Model': 'PassiveAggressiveRegressor', 'R-Squared': -0.04283894518784459, 'Adjusted R-Squared': -0.6387469138666129, 'RMSE': 0.04964045931792464, 'Time taken': 0.016634464263916016, 'mean_squared_error': 0.0024641752012945313}\n",
      "{'Model': 'PoissonRegressor', 'R-Squared': 0.2444441010039735, 'Adjusted R-Squared': -0.1873021269937558, 'RMSE': 0.04225328420351548, 'Time taken': 0.024882793426513672, 'mean_squared_error': 0.0017853400259830508}\n",
      "{'Model': 'QuantileRegressor', 'R-Squared': -0.24200000000000021, 'Adjusted R-Squared': -0.951714285714286, 'RMSE': 0.05417363388859617, 'Time taken': 0.025360822677612305, 'mean_squared_error': 0.0029347826086956554}\n"
     ]
    },
    {
     "name": "stderr",
     "output_type": "stream",
     "text": [
      " 79%|████████████████████████████████████████████████████████████████▍                 | 33/42 [00:01<00:00, 21.41it/s]"
     ]
    },
    {
     "name": "stdout",
     "output_type": "stream",
     "text": [
      "{'Model': 'RANSACRegressor', 'R-Squared': -0.6313162230828784, 'Adjusted R-Squared': -1.5634969219873804, 'RMSE': 0.06208636704831603, 'Time taken': 0.1469254493713379, 'mean_squared_error': 0.0038547169732582225}\n"
     ]
    },
    {
     "name": "stderr",
     "output_type": "stream",
     "text": [
      " 86%|██████████████████████████████████████████████████████████████████████▎           | 36/42 [00:01<00:00, 17.40it/s]"
     ]
    },
    {
     "name": "stdout",
     "output_type": "stream",
     "text": [
      "{'Model': 'RandomForestRegressor', 'R-Squared': -0.19832397750131947, 'Adjusted R-Squared': -0.8830805360735019, 'RMSE': 0.05321257742998596, 'Time taken': 0.22696280479431152, 'mean_squared_error': 0.002831578396742251}\n",
      "{'Model': 'Ridge', 'R-Squared': 0.2082782468514197, 'Adjusted R-Squared': -0.24413418351919747, 'RMSE': 0.04325272353796092, 'Time taken': 0.01754927635192871, 'mean_squared_error': 0.0018707980934512783}\n",
      "{'Model': 'RidgeCV', 'R-Squared': 0.22135326134586042, 'Adjusted R-Squared': -0.22358773217079064, 'RMSE': 0.04289408469178122, 'Time taken': 0.01866006851196289, 'mean_squared_error': 0.0018399025015457}\n",
      "{'Model': 'SGDRegressor', 'R-Squared': -0.6414498366856134, 'Adjusted R-Squared': -1.5794211719345355, 'RMSE': 0.06227890642091359, 'Time taken': 0.02099609375, 'mean_squared_error': 0.003878662184984912}\n",
      "{'Model': 'SVR', 'R-Squared': 0.19994998796201569, 'Adjusted R-Squared': -0.25722144748826103, 'RMSE': 0.04347961987109737, 'Time taken': 0.018590211868286133, 'mean_squared_error': 0.0018904773441351253}\n",
      "{'Model': 'TransformedTargetRegressor', 'R-Squared': 0.2411536067718928, 'Adjusted R-Squared': -0.19247290364416836, 'RMSE': 0.04234519212269118, 'Time taken': 0.016504287719726562, 'mean_squared_error': 0.0017931152959076273}\n",
      "{'Model': 'TweedieRegressor', 'R-Squared': 0.24084514332798113, 'Adjusted R-Squared': -0.1929576319131725, 'RMSE': 0.04235379769609462, 'Time taken': 0.016323566436767578, 'mean_squared_error': 0.0017938441792817097}\n"
     ]
    },
    {
     "name": "stderr",
     "output_type": "stream",
     "text": [
      "100%|██████████████████████████████████████████████████████████████████████████████████| 42/42 [00:02<00:00, 18.82it/s]"
     ]
    },
    {
     "name": "stdout",
     "output_type": "stream",
     "text": [
      "{'Model': 'XGBRegressor', 'R-Squared': -0.29853550078604263, 'Adjusted R-Squared': -1.0405557869494957, 'RMSE': 0.05539289766295146, 'Time taken': 0.17175793647766113, 'mean_squared_error': 0.003068373111498213}\n",
      "[LightGBM] [Info] Auto-choosing col-wise multi-threading, the overhead of testing was 0.000202 seconds.\n",
      "You can set `force_col_wise=true` to remove the overhead.\n",
      "[LightGBM] [Info] Total Bins 44\n",
      "[LightGBM] [Info] Number of data points in the train set: 88, number of used features: 5\n",
      "[LightGBM] [Info] Start training from score 1.277955\n",
      "[LightGBM] [Warning] No further splits with positive gain, best gain: -inf\n",
      "[LightGBM] [Warning] No further splits with positive gain, best gain: -inf\n",
      "[LightGBM] [Warning] No further splits with positive gain, best gain: -inf\n",
      "[LightGBM] [Warning] No further splits with positive gain, best gain: -inf\n",
      "[LightGBM] [Warning] No further splits with positive gain, best gain: -inf\n",
      "[LightGBM] [Warning] No further splits with positive gain, best gain: -inf\n",
      "[LightGBM] [Warning] No further splits with positive gain, best gain: -inf\n",
      "[LightGBM] [Warning] No further splits with positive gain, best gain: -inf\n",
      "[LightGBM] [Warning] No further splits with positive gain, best gain: -inf\n",
      "[LightGBM] [Warning] No further splits with positive gain, best gain: -inf\n",
      "[LightGBM] [Warning] No further splits with positive gain, best gain: -inf\n",
      "[LightGBM] [Warning] No further splits with positive gain, best gain: -inf\n",
      "[LightGBM] [Warning] No further splits with positive gain, best gain: -inf\n",
      "[LightGBM] [Warning] No further splits with positive gain, best gain: -inf\n",
      "[LightGBM] [Warning] No further splits with positive gain, best gain: -inf\n",
      "[LightGBM] [Warning] No further splits with positive gain, best gain: -inf\n",
      "[LightGBM] [Warning] No further splits with positive gain, best gain: -inf\n",
      "[LightGBM] [Warning] No further splits with positive gain, best gain: -inf\n",
      "[LightGBM] [Warning] No further splits with positive gain, best gain: -inf\n",
      "[LightGBM] [Warning] No further splits with positive gain, best gain: -inf\n",
      "[LightGBM] [Warning] No further splits with positive gain, best gain: -inf\n",
      "[LightGBM] [Warning] No further splits with positive gain, best gain: -inf\n",
      "[LightGBM] [Warning] No further splits with positive gain, best gain: -inf\n",
      "[LightGBM] [Warning] No further splits with positive gain, best gain: -inf\n",
      "[LightGBM] [Warning] No further splits with positive gain, best gain: -inf\n",
      "[LightGBM] [Warning] No further splits with positive gain, best gain: -inf\n",
      "[LightGBM] [Warning] No further splits with positive gain, best gain: -inf\n",
      "[LightGBM] [Warning] No further splits with positive gain, best gain: -inf\n",
      "[LightGBM] [Warning] No further splits with positive gain, best gain: -inf\n",
      "[LightGBM] [Warning] No further splits with positive gain, best gain: -inf\n",
      "[LightGBM] [Warning] No further splits with positive gain, best gain: -inf\n",
      "[LightGBM] [Warning] No further splits with positive gain, best gain: -inf\n",
      "[LightGBM] [Warning] No further splits with positive gain, best gain: -inf\n",
      "[LightGBM] [Warning] No further splits with positive gain, best gain: -inf\n",
      "[LightGBM] [Warning] No further splits with positive gain, best gain: -inf\n",
      "[LightGBM] [Warning] No further splits with positive gain, best gain: -inf\n",
      "[LightGBM] [Warning] No further splits with positive gain, best gain: -inf\n",
      "[LightGBM] [Warning] No further splits with positive gain, best gain: -inf\n",
      "[LightGBM] [Warning] No further splits with positive gain, best gain: -inf\n",
      "[LightGBM] [Warning] No further splits with positive gain, best gain: -inf\n",
      "[LightGBM] [Warning] No further splits with positive gain, best gain: -inf\n",
      "[LightGBM] [Warning] No further splits with positive gain, best gain: -inf\n",
      "[LightGBM] [Warning] No further splits with positive gain, best gain: -inf\n",
      "[LightGBM] [Warning] No further splits with positive gain, best gain: -inf\n",
      "[LightGBM] [Warning] No further splits with positive gain, best gain: -inf\n",
      "[LightGBM] [Warning] No further splits with positive gain, best gain: -inf\n",
      "[LightGBM] [Warning] No further splits with positive gain, best gain: -inf\n",
      "[LightGBM] [Warning] No further splits with positive gain, best gain: -inf\n",
      "[LightGBM] [Warning] No further splits with positive gain, best gain: -inf\n",
      "[LightGBM] [Warning] No further splits with positive gain, best gain: -inf\n",
      "[LightGBM] [Warning] No further splits with positive gain, best gain: -inf\n",
      "[LightGBM] [Warning] No further splits with positive gain, best gain: -inf\n",
      "[LightGBM] [Warning] No further splits with positive gain, best gain: -inf\n",
      "[LightGBM] [Warning] No further splits with positive gain, best gain: -inf\n",
      "[LightGBM] [Warning] No further splits with positive gain, best gain: -inf\n",
      "[LightGBM] [Warning] No further splits with positive gain, best gain: -inf\n",
      "[LightGBM] [Warning] No further splits with positive gain, best gain: -inf\n",
      "[LightGBM] [Warning] No further splits with positive gain, best gain: -inf\n",
      "[LightGBM] [Warning] No further splits with positive gain, best gain: -inf\n",
      "[LightGBM] [Warning] No further splits with positive gain, best gain: -inf\n",
      "[LightGBM] [Warning] No further splits with positive gain, best gain: -inf\n",
      "[LightGBM] [Warning] No further splits with positive gain, best gain: -inf\n",
      "[LightGBM] [Warning] No further splits with positive gain, best gain: -inf\n",
      "[LightGBM] [Warning] No further splits with positive gain, best gain: -inf\n",
      "[LightGBM] [Warning] No further splits with positive gain, best gain: -inf\n",
      "[LightGBM] [Warning] No further splits with positive gain, best gain: -inf\n",
      "[LightGBM] [Warning] No further splits with positive gain, best gain: -inf\n",
      "[LightGBM] [Warning] No further splits with positive gain, best gain: -inf\n",
      "[LightGBM] [Warning] No further splits with positive gain, best gain: -inf\n",
      "[LightGBM] [Warning] No further splits with positive gain, best gain: -inf\n",
      "[LightGBM] [Warning] No further splits with positive gain, best gain: -inf\n",
      "[LightGBM] [Warning] No further splits with positive gain, best gain: -inf\n",
      "[LightGBM] [Warning] No further splits with positive gain, best gain: -inf\n",
      "[LightGBM] [Warning] No further splits with positive gain, best gain: -inf\n",
      "[LightGBM] [Warning] No further splits with positive gain, best gain: -inf\n",
      "[LightGBM] [Warning] No further splits with positive gain, best gain: -inf\n",
      "[LightGBM] [Warning] No further splits with positive gain, best gain: -inf\n",
      "[LightGBM] [Warning] No further splits with positive gain, best gain: -inf\n",
      "[LightGBM] [Warning] No further splits with positive gain, best gain: -inf\n",
      "[LightGBM] [Warning] No further splits with positive gain, best gain: -inf\n",
      "[LightGBM] [Warning] No further splits with positive gain, best gain: -inf\n",
      "[LightGBM] [Warning] No further splits with positive gain, best gain: -inf\n",
      "[LightGBM] [Warning] No further splits with positive gain, best gain: -inf\n",
      "[LightGBM] [Warning] No further splits with positive gain, best gain: -inf\n",
      "[LightGBM] [Warning] No further splits with positive gain, best gain: -inf\n",
      "[LightGBM] [Warning] No further splits with positive gain, best gain: -inf\n",
      "[LightGBM] [Warning] No further splits with positive gain, best gain: -inf\n",
      "[LightGBM] [Warning] No further splits with positive gain, best gain: -inf\n",
      "[LightGBM] [Warning] No further splits with positive gain, best gain: -inf\n",
      "[LightGBM] [Warning] No further splits with positive gain, best gain: -inf\n",
      "[LightGBM] [Warning] No further splits with positive gain, best gain: -inf\n",
      "[LightGBM] [Warning] No further splits with positive gain, best gain: -inf\n",
      "[LightGBM] [Warning] No further splits with positive gain, best gain: -inf\n",
      "[LightGBM] [Warning] No further splits with positive gain, best gain: -inf\n",
      "[LightGBM] [Warning] No further splits with positive gain, best gain: -inf\n",
      "[LightGBM] [Warning] No further splits with positive gain, best gain: -inf\n",
      "[LightGBM] [Warning] No further splits with positive gain, best gain: -inf\n",
      "[LightGBM] [Warning] No further splits with positive gain, best gain: -inf\n",
      "[LightGBM] [Warning] No further splits with positive gain, best gain: -inf\n",
      "[LightGBM] [Warning] No further splits with positive gain, best gain: -inf\n",
      "{'Model': 'LGBMRegressor', 'R-Squared': 0.05949013761052879, 'Adjusted R-Squared': -0.477944069469169, 'RMSE': 0.047142091611291605, 'Time taken': 0.08327722549438477, 'mean_squared_error': 0.00222237680148741}\n",
      "                               Adjusted R-Squared  R-Squared  RMSE  \\\n",
      "Model                                                                \n",
      "PoissonRegressor                            -0.19       0.24  0.04   \n",
      "TransformedTargetRegressor                  -0.19       0.24  0.04   \n",
      "LinearRegression                            -0.19       0.24  0.04   \n",
      "TweedieRegressor                            -0.19       0.24  0.04   \n",
      "GammaRegressor                              -0.20       0.24  0.04   \n",
      "BayesianRidge                               -0.21       0.23  0.04   \n",
      "RidgeCV                                     -0.22       0.22  0.04   \n",
      "ElasticNetCV                                -0.23       0.22  0.04   \n",
      "LassoCV                                     -0.23       0.22  0.04   \n",
      "LassoLarsCV                                 -0.23       0.22  0.04   \n",
      "LarsCV                                      -0.23       0.22  0.04   \n",
      "Ridge                                       -0.24       0.21  0.04   \n",
      "LassoLarsIC                                 -0.25       0.21  0.04   \n",
      "Lars                                        -0.25       0.21  0.04   \n",
      "OrthogonalMatchingPursuitCV                 -0.25       0.21  0.04   \n",
      "SVR                                         -0.26       0.20  0.04   \n",
      "HuberRegressor                              -0.29       0.18  0.04   \n",
      "OrthogonalMatchingPursuit                   -0.30       0.17  0.04   \n",
      "LinearSVR                                   -0.42       0.10  0.05   \n",
      "NuSVR                                       -0.43       0.09  0.05   \n",
      "LGBMRegressor                               -0.48       0.06  0.05   \n",
      "GradientBoostingRegressor                   -0.57       0.00  0.05   \n",
      "HistGradientBoostingRegressor               -0.59      -0.01  0.05   \n",
      "Lasso                                       -0.60      -0.02  0.05   \n",
      "DummyRegressor                              -0.60      -0.02  0.05   \n",
      "ElasticNet                                  -0.60      -0.02  0.05   \n",
      "LassoLars                                   -0.60      -0.02  0.05   \n",
      "AdaBoostRegressor                           -0.61      -0.02  0.05   \n",
      "PassiveAggressiveRegressor                  -0.64      -0.04  0.05   \n",
      "BaggingRegressor                            -0.74      -0.11  0.05   \n",
      "RandomForestRegressor                       -0.88      -0.20  0.05   \n",
      "QuantileRegressor                           -0.95      -0.24  0.05   \n",
      "KNeighborsRegressor                         -1.01      -0.28  0.05   \n",
      "XGBRegressor                                -1.04      -0.30  0.06   \n",
      "ExtraTreesRegressor                         -1.23      -0.42  0.06   \n",
      "DecisionTreeRegressor                       -1.37      -0.51  0.06   \n",
      "ExtraTreeRegressor                          -1.53      -0.61  0.06   \n",
      "RANSACRegressor                             -1.56      -0.63  0.06   \n",
      "SGDRegressor                                -1.58      -0.64  0.06   \n",
      "GaussianProcessRegressor                    -3.65      -1.96  0.08   \n",
      "MLPRegressor                               -23.11     -14.35  0.19   \n",
      "KernelRidge                              -1098.10    -698.43  1.29   \n",
      "\n",
      "                               Time Taken  mean_squared_error  \n",
      "Model                                                          \n",
      "PoissonRegressor                     0.02                0.00  \n",
      "TransformedTargetRegressor           0.02                0.00  \n",
      "LinearRegression                     0.02                0.00  \n",
      "TweedieRegressor                     0.02                0.00  \n",
      "GammaRegressor                       0.02                0.00  \n",
      "BayesianRidge                        0.03                0.00  \n",
      "RidgeCV                              0.02                0.00  \n",
      "ElasticNetCV                         0.11                0.00  \n",
      "LassoCV                              0.11                0.00  \n",
      "LassoLarsCV                          0.03                0.00  \n",
      "LarsCV                               0.02                0.00  \n",
      "Ridge                                0.02                0.00  \n",
      "LassoLarsIC                          0.02                0.00  \n",
      "Lars                                 0.02                0.00  \n",
      "OrthogonalMatchingPursuitCV          0.02                0.00  \n",
      "SVR                                  0.02                0.00  \n",
      "HuberRegressor                       0.03                0.00  \n",
      "OrthogonalMatchingPursuit            0.02                0.00  \n",
      "LinearSVR                            0.02                0.00  \n",
      "NuSVR                                0.02                0.00  \n",
      "LGBMRegressor                        0.08                0.00  \n",
      "GradientBoostingRegressor            0.10                0.00  \n",
      "HistGradientBoostingRegressor        0.16                0.00  \n",
      "Lasso                                0.02                0.00  \n",
      "DummyRegressor                       0.02                0.00  \n",
      "ElasticNet                           0.02                0.00  \n",
      "LassoLars                            0.02                0.00  \n",
      "AdaBoostRegressor                    0.08                0.00  \n",
      "PassiveAggressiveRegressor           0.02                0.00  \n",
      "BaggingRegressor                     0.06                0.00  \n",
      "RandomForestRegressor                0.23                0.00  \n",
      "QuantileRegressor                    0.02                0.00  \n",
      "KNeighborsRegressor                  0.01                0.00  \n",
      "XGBRegressor                         0.17                0.00  \n",
      "ExtraTreesRegressor                  0.15                0.00  \n",
      "DecisionTreeRegressor                0.02                0.00  \n",
      "ExtraTreeRegressor                   0.02                0.00  \n",
      "RANSACRegressor                      0.15                0.00  \n",
      "SGDRegressor                         0.02                0.00  \n",
      "GaussianProcessRegressor             0.06                0.01  \n",
      "MLPRegressor                         0.17                0.04  \n",
      "KernelRidge                          0.02                1.65  \n"
     ]
    },
    {
     "name": "stderr",
     "output_type": "stream",
     "text": [
      "\n"
     ]
    }
   ],
   "source": [
    "import pandas as pd\n",
    "from lazypredict.Supervised import LazyRegressor\n",
    "from sklearn.model_selection import train_test_split\n",
    "from sklearn.metrics import mean_squared_error\n",
    "\n",
    "file_path = 'Pb Sn .csv' \n",
    "data = pd.read_csv(file_path)\n",
    "data = data.drop(columns=['ID'])\n",
    "composition_columns = ['FA', 'MA', 'Cs', 'Pb', 'Sn', 'Br', 'I','Cl']\n",
    "target_column = 'Bandgap'\n",
    "X = data[composition_columns]\n",
    "y = data[target_column]\n",
    "\n",
    "X_train, X_test, y_train, y_test = train_test_split(X, y, test_size=0.2)\n",
    "\n",
    "lazy_regressor = LazyRegressor(verbose=1, ignore_warnings=True, custom_metric=mean_squared_error)\n",
    "models, predictions = lazy_regressor.fit(X_train, X_test, y_train, y_test)\n",
    "print(models.sort_values(by=['R-Squared'], ascending=False))"
   ]
  },
  {
   "cell_type": "code",
   "execution_count": null,
   "id": "8e151f7f-3395-4488-ab1e-25bc342cf390",
   "metadata": {},
   "outputs": [],
   "source": []
  }
 ],
 "metadata": {
  "kernelspec": {
   "display_name": "Python 3 (ipykernel)",
   "language": "python",
   "name": "python3"
  },
  "language_info": {
   "codemirror_mode": {
    "name": "ipython",
    "version": 3
   },
   "file_extension": ".py",
   "mimetype": "text/x-python",
   "name": "python",
   "nbconvert_exporter": "python",
   "pygments_lexer": "ipython3",
   "version": "3.11.9"
  }
 },
 "nbformat": 4,
 "nbformat_minor": 5
}
